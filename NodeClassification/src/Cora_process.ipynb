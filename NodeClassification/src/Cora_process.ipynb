{
 "cells": [
  {
   "cell_type": "code",
   "execution_count": 53,
   "metadata": {},
   "outputs": [],
   "source": [
    "import os.path as osp\n",
    "import pickle\n",
    "from collections import namedtuple\n",
    "import itertools\n",
    "\n",
    "import numpy as np\n",
    "import scipy.sparse as sp\n",
    "import torch\n",
    "import torch.nn as nn\n",
    "import torch.nn.functional as F"
   ]
  },
  {
   "cell_type": "code",
   "execution_count": 54,
   "metadata": {},
   "outputs": [],
   "source": [
    "Data = namedtuple(\n",
    "    'Data', ['x', 'y', 'adjacency', 'train_mask', 'val_mask', 'test_mask'])"
   ]
  },
  {
   "cell_type": "code",
   "execution_count": 55,
   "metadata": {},
   "outputs": [],
   "source": [
    "class CoraData(object):\n",
    "\n",
    "    def __init__(self, data_root=\"../dataset/Cora\", rebuild=False):\n",
    "        \"\"\"\n",
    "        Cora数据集，对指定目录下的原始Cora数据集进行处理，然后返回处理后的命名元组，该元组包含以下内容:\n",
    "            x: 所有节点的特征，shape为(2708, 1433)\n",
    "            y: 所有节点的label，shape为(2708, 1)\n",
    "            adjacency: 所有节点的邻接矩阵，shape为(2708, 2708)，这里采用稀疏矩阵存储\n",
    "            train_mask: 训练集掩码向量，shape为(2708, )属于训练集的位置值为True，否则False，共140个\n",
    "            val_mask: 训练集掩码向量，shape为(2708, )属于验证集的位置值为True，否则False，500\n",
    "            test_mask: 训练集掩码向量，shape为(2708, )属于测试集的位置值为True，否则False，共1000个\n",
    "        :param data_root: 数据集根目录，原始数据集为 {data_root}/raw，处理后的数据为{data_root}/processed_cora.pkl\n",
    "        :param rebuild:\n",
    "        \"\"\"\n",
    "        self.data_root = data_root\n",
    "        self.filenames = [\n",
    "            \"ind.cora.{}\".format(name) for name in\n",
    "            ['x', 'tx', 'allx', 'y', 'ty', 'ally', 'graph', 'test.index']\n",
    "        ]\n",
    "        save_file = osp.join(self.data_root, \"processed_cora.pkl\")\n",
    "        if osp.exists(save_file) and not rebuild:\n",
    "            print(\"Using Cached file: {}\".format(save_file))\n",
    "            self._data = pickle.load(open(save_file, \"rb\"))\n",
    "        else:\n",
    "            self._data = self.process_data()\n",
    "            with open(save_file, \"wb\") as f:\n",
    "                pickle.dump(self.data, f)\n",
    "            print(\"Cached file: {}\".format(save_file))\n",
    "\n",
    "    @property\n",
    "    def data(self):\n",
    "        return self._data\n",
    "\n",
    "    def process_data(self):\n",
    "        \"\"\"\n",
    "        处理数据，得到节点特征和标签，邻接矩阵，训练集、验证集以及测试集\n",
    "        参考 https://github.com/FighterLYL/GraphNeuralNetwork\n",
    "        引用自 https://github.com/rusty1s/pytorch_geometric\n",
    "        \"\"\"\n",
    "        print(\"Process data ...\")\n",
    "        _, tx, allx, y, ty, ally, graph, test_index = [\n",
    "            self.read_data(osp.join(self.data_root, \"raw\", name))\n",
    "            for name in self.filenames\n",
    "        ]\n",
    "        train_index = np.arange(y.shape[0])\n",
    "        val_index = np.arange(y.shape[0], y.shape[0] + 500)\n",
    "        sorted_test_index = sorted(test_index)\n",
    "\n",
    "        x = np.concatenate((allx, tx), axis=0)\n",
    "        y = np.concatenate((ally, ty), axis=0).argmax(axis=1)\n",
    "\n",
    "        x[test_index] = x[sorted_test_index]\n",
    "        y[test_index] = y[sorted_test_index]\n",
    "        num_nodes = x.shape[0]\n",
    "\n",
    "        train_mask = np.zeros(num_nodes, dtype=np.bool)\n",
    "        val_mask = np.zeros(num_nodes, dtype=np.bool)\n",
    "        test_mask = np.zeros(num_nodes, dtype=np.bool)\n",
    "        train_mask[train_index] = True\n",
    "        val_mask[val_index] = True\n",
    "        test_mask[test_index] = True\n",
    "        adjacency = self.build_adjacency(graph)\n",
    "        print(\"Node's feature shape: \", x.shape)\n",
    "        print(\"Node's label shape: \", y.shape)\n",
    "        print(\"Adjacency's shape: \", adjacency.shape)\n",
    "        print(\"Number of training nodes: \", train_mask.sum())\n",
    "        print(\"Number of validation nodes: \", val_mask.sum())\n",
    "        print(\"Number of test nodes: \", test_mask.sum())\n",
    "\n",
    "        return Data(x=x,\n",
    "                    y=y,\n",
    "                    adjacency=adjacency,\n",
    "                    train_mask=train_mask,\n",
    "                    val_mask=val_mask,\n",
    "                    test_mask=test_mask)\n",
    "\n",
    "    @staticmethod\n",
    "    def build_adjacency(adj_dict):\n",
    "        \"\"\"\n",
    "        根据邻接表创建邻接矩阵\n",
    "        \"\"\"\n",
    "        edge_index = []\n",
    "        num_nodes = len(adj_dict)\n",
    "        for src, dst in adj_dict.items():\n",
    "            edge_index.extend([src, v] for v in dst)\n",
    "            edge_index.extend([v, src] for v in dst)\n",
    "        # 去除重复的边\n",
    "        edge_index = list(k for k, _ in itertools.groupby(sorted(edge_index)))\n",
    "        edge_index = np.asarray(edge_index)\n",
    "        adjacency = sp.coo_matrix(\n",
    "            (np.ones(len(edge_index)), (edge_index[:, 0], edge_index[:, 1])),\n",
    "            shape=(num_nodes, num_nodes),\n",
    "            dtype=\"float32\")\n",
    "        return adjacency\n",
    "\n",
    "    @staticmethod\n",
    "    def read_data(path):\n",
    "        \"\"\"\n",
    "        读取Cora原始数据文件\n",
    "        \"\"\"\n",
    "        name = osp.basename(path)\n",
    "        if name == \"ind.Cora.test.index\":\n",
    "            out = np.genfromtxt(path, dtype=\"int64\")\n",
    "            return out\n",
    "        else:\n",
    "            out = pickle.load(open(path, \"rb\"), encoding=\"latin1\")\n",
    "            out = out.toarray() if hasattr(out, \"toarray\") else out\n",
    "            return out\n",
    "\n",
    "    @staticmethod\n",
    "    def normalization(adjacency):\n",
    "        \"\"\"\n",
    "        计算 L=D^-0.5 * (A+I) * D^-0.5\n",
    "        \"\"\"\n",
    "        adjacency += sp.eye(adjacency.shape[0])  # 增加自连接\n",
    "        degree = np.array(adjacency.sum(1))\n",
    "        d_hat = sp.diags(np.power(degree, -0.5).flatten())\n",
    "        return d_hat.dot(adjacency).dot(d_hat).tocoo()\n"
   ]
  },
  {
   "cell_type": "code",
   "execution_count": 58,
   "metadata": {},
   "outputs": [
    {
     "name": "stdout",
     "output_type": "stream",
     "text": [
      "Using Cached file: ../../GCN/Cora/processed_cora.pkl\n"
     ]
    }
   ],
   "source": [
    "ds = CoraData(\"../../GCN/Cora\", rebuild=False).data"
   ]
  },
  {
   "attachments": {},
   "cell_type": "markdown",
   "metadata": {},
   "source": [
    "读取Cora数据集得到的向量shape"
   ]
  },
  {
   "cell_type": "code",
   "execution_count": 52,
   "metadata": {},
   "outputs": [
    {
     "name": "stdout",
     "output_type": "stream",
     "text": [
      "Data(x=array([[0., 0., 0., ..., 0., 0., 0.],\n",
      "       [0., 0., 0., ..., 0., 0., 0.],\n",
      "       [0., 0., 0., ..., 0., 0., 0.],\n",
      "       ...,\n",
      "       [0., 0., 0., ..., 0., 0., 0.],\n",
      "       [0., 0., 0., ..., 0., 0., 0.],\n",
      "       [0., 0., 0., ..., 0., 0., 0.]], dtype=float32), y=array([3, 4, 4, ..., 3, 3, 3]), adjacency=<2708x2708 sparse matrix of type '<class 'numpy.float32'>'\n",
      "\twith 10556 stored elements in COOrdinate format>, train_mask=array([ True,  True,  True, ..., False, False, False]), val_mask=array([False, False, False, ..., False, False, False]), test_mask=array([False, False, False, ...,  True,  True,  True]))\n",
      "ds.x: [[0. 0. 0. ... 0. 0. 0.]\n",
      " [0. 0. 0. ... 0. 0. 0.]\n",
      " [0. 0. 0. ... 0. 0. 0.]\n",
      " ...\n",
      " [0. 0. 0. ... 0. 0. 0.]\n",
      " [0. 0. 0. ... 0. 0. 0.]\n",
      " [0. 0. 0. ... 0. 0. 0.]] (2708, 1433)\n",
      "ds.y: [3 4 4 ... 3 3 3] (2708,)\n",
      "ds.adjacency:   (0, 633)\t1.0\n",
      "  (0, 1862)\t1.0\n",
      "  (0, 2582)\t1.0\n",
      "  (1, 2)\t1.0\n",
      "  (1, 652)\t1.0\n",
      "  (1, 654)\t1.0\n",
      "  (2, 1)\t1.0\n",
      "  (2, 332)\t1.0\n",
      "  (2, 1454)\t1.0\n",
      "  (2, 1666)\t1.0\n",
      "  (2, 1986)\t1.0\n",
      "  (3, 2544)\t1.0\n",
      "  (4, 1016)\t1.0\n",
      "  (4, 1256)\t1.0\n",
      "  (4, 1761)\t1.0\n",
      "  (4, 2175)\t1.0\n",
      "  (4, 2176)\t1.0\n",
      "  (5, 1629)\t1.0\n",
      "  (5, 1659)\t1.0\n",
      "  (5, 2546)\t1.0\n",
      "  (6, 373)\t1.0\n",
      "  (6, 1042)\t1.0\n",
      "  (6, 1416)\t1.0\n",
      "  (6, 1602)\t1.0\n",
      "  (7, 208)\t1.0\n",
      "  :\t:\n",
      "  (2694, 431)\t1.0\n",
      "  (2694, 2695)\t1.0\n",
      "  (2695, 431)\t1.0\n",
      "  (2695, 2694)\t1.0\n",
      "  (2696, 2615)\t1.0\n",
      "  (2697, 986)\t1.0\n",
      "  (2698, 1400)\t1.0\n",
      "  (2698, 1573)\t1.0\n",
      "  (2699, 2630)\t1.0\n",
      "  (2700, 1151)\t1.0\n",
      "  (2701, 44)\t1.0\n",
      "  (2701, 2624)\t1.0\n",
      "  (2702, 186)\t1.0\n",
      "  (2702, 1536)\t1.0\n",
      "  (2703, 1298)\t1.0\n",
      "  (2704, 641)\t1.0\n",
      "  (2705, 287)\t1.0\n",
      "  (2706, 165)\t1.0\n",
      "  (2706, 169)\t1.0\n",
      "  (2706, 1473)\t1.0\n",
      "  (2706, 2707)\t1.0\n",
      "  (2707, 165)\t1.0\n",
      "  (2707, 598)\t1.0\n",
      "  (2707, 1473)\t1.0\n",
      "  (2707, 2706)\t1.0 (2708, 2708)\n",
      "ds.train_mask: [ True  True  True ... False False False] (2708,)\n",
      "ds.val_mask: [False False False ... False False False] (2708,)\n",
      "ds.test_mask: [False False False ...  True  True  True] (2708,)\n",
      "140\n"
     ]
    }
   ],
   "source": [
    "print(ds)\n",
    "print('ds.x:',ds.x,ds.x.shape)  # (2708,1433)\n",
    "print('ds.y:',ds.y,ds.y.shape)  # (2708,)\n",
    "print('ds.adjacency:',ds.adjacency,ds.adjacency.shape)  # (2708,2708)\n",
    "print('ds.train_mask:',ds.train_mask,ds.train_mask.shape)   # (2708,)\n",
    "print('ds.val_mask:',ds.val_mask,ds.val_mask.shape)# (2708,)\n",
    "print('ds.test_mask:',ds.test_mask,ds.test_mask.shape)# (2708,)\n",
    "print('训练集掩码向量个数：',sum(ds.train_mask))\n",
    "print('验证集掩码向量个数：',sum(ds.val_mask))\n",
    "print('测试集掩码向量个数：',sum(ds.test_mask))"
   ]
  },
  {
   "attachments": {},
   "cell_type": "markdown",
   "metadata": {},
   "source": [
    "读取Cora数据集得到样本"
   ]
  },
  {
   "attachments": {},
   "cell_type": "markdown",
   "metadata": {},
   "source": [
    "1. x: 所有节点的特征，shape为(2708, 1433)\n",
    "2. y: 所有节点的label，shape为(2708, )\n",
    "3. adjacency: 所有节点的邻接矩阵，shape为(2708, 2708)，这里采用稀疏矩阵存储\n",
    "4. train_mask: 训练集掩码向量，shape为(2708, )属于训练集的位置值为True，否则False，共140个\n",
    "5. val_mask: 训练集掩码向量，shape为(2708, )属于验证集的位置值为True，否则False，共500个\n",
    "6. test_mask: 训练集掩码向量，shape为(2708, )属于测试集的位置值为True，否则False，共1000个"
   ]
  },
  {
   "cell_type": "code",
   "execution_count": 18,
   "metadata": {},
   "outputs": [],
   "source": [
    "DEVICE=torch.device('cuda:0' if torch.cuda.is_available() else \"cpu\")"
   ]
  },
  {
   "cell_type": "code",
   "execution_count": 19,
   "metadata": {},
   "outputs": [
    {
     "name": "stdout",
     "output_type": "stream",
     "text": [
      "Using Cached file: ../../GCN/Cora/processed_cora.pkl\n"
     ]
    }
   ],
   "source": [
    "dataset = CoraData(\"../../GCN/Cora\", rebuild=False).data"
   ]
  },
  {
   "cell_type": "code",
   "execution_count": 24,
   "metadata": {},
   "outputs": [
    {
     "name": "stdout",
     "output_type": "stream",
     "text": [
      "(2708, 1433)\n",
      "(2708, 1)\n",
      "[[0. 0. 0. ... 0. 0. 0.]\n",
      " [0. 0. 0. ... 0. 0. 0.]\n",
      " [0. 0. 0. ... 0. 0. 0.]\n",
      " ...\n",
      " [0. 0. 0. ... 0. 0. 0.]\n",
      " [0. 0. 0. ... 0. 0. 0.]\n",
      " [0. 0. 0. ... 0. 0. 0.]]\n"
     ]
    }
   ],
   "source": [
    "node_feature = dataset.x / dataset.x.sum(dim=1, keepdims=True)  # 归一化数据，dim=0表示按照列相加，dim=1表示按照行相加，keepdims=True表示保留原始tensor维度\n",
    "print(node_feature.shape)\n",
    "print(node_feature)"
   ]
  },
  {
   "cell_type": "code",
   "execution_count": 27,
   "metadata": {},
   "outputs": [
    {
     "name": "stdout",
     "output_type": "stream",
     "text": [
      "torch.Size([2708, 1433])\n",
      "torch.Size([2708])\n",
      "tensor([3, 4, 4,  ..., 3, 3, 3], device='cuda:0')\n"
     ]
    }
   ],
   "source": [
    "tensor_x = torch.from_numpy(node_feature).to(DEVICE)\n",
    "tensor_y = torch.from_numpy(dataset.y).to(DEVICE)\n",
    "print(tensor_x.shape)   # (2708,1433)\n",
    "print(tensor_y.shape)   # (2708)\n",
    "print(tensor_y)"
   ]
  },
  {
   "cell_type": "code",
   "execution_count": 29,
   "metadata": {},
   "outputs": [
    {
     "name": "stdout",
     "output_type": "stream",
     "text": [
      "tensor([ True,  True,  True,  ..., False, False, False], device='cuda:0')\n",
      "tensor([False, False, False,  ..., False, False, False], device='cuda:0')\n",
      "tensor([False, False, False,  ...,  True,  True,  True], device='cuda:0')\n"
     ]
    }
   ],
   "source": [
    "tensor_train_mask = torch.from_numpy(dataset.train_mask).to(DEVICE)\n",
    "tensor_val_mask = torch.from_numpy(dataset.val_mask).to(DEVICE)\n",
    "tensor_test_mask = torch.from_numpy(dataset.test_mask).to(DEVICE)\n",
    "print(tensor_train_mask)  # (2708)\n",
    "print(tensor_val_mask)# (2708)\n",
    "print(tensor_test_mask)# (2708)"
   ]
  },
  {
   "cell_type": "code",
   "execution_count": 41,
   "metadata": {},
   "outputs": [
    {
     "name": "stdout",
     "output_type": "stream",
     "text": [
      "<class 'scipy.sparse._coo.coo_matrix'>\n",
      "  (0, 0)\t0.25\n",
      "  (0, 633)\t0.25\n",
      "  (0, 1862)\t0.22360679774997896\n",
      "  (0, 2582)\t0.25\n",
      "  (1, 1)\t0.25\n",
      "  (1, 2)\t0.2041241452319315\n",
      "  (1, 652)\t0.28867513459481287\n",
      "  (1, 654)\t0.3535533905932738\n",
      "  (2, 1)\t0.2041241452319315\n",
      "  (2, 2)\t0.16666666666666666\n",
      "  (2, 332)\t0.16666666666666666\n",
      "  (2, 1454)\t0.2886751345948129\n",
      "  (2, 1666)\t0.1543033499620919\n",
      "  (2, 1986)\t0.050251890762960605\n",
      "  (3, 3)\t0.5000000000000001\n",
      "  (3, 2544)\t0.5000000000000001\n",
      "  (4, 4)\t0.16666666666666666\n",
      "  (4, 1016)\t0.16666666666666666\n",
      "  (4, 1256)\t0.13608276348795434\n",
      "  (4, 1761)\t0.14433756729740646\n",
      "  (4, 2175)\t0.16666666666666666\n",
      "  (4, 2176)\t0.13608276348795434\n",
      "  (5, 5)\t0.25\n",
      "  (5, 1629)\t0.25\n",
      "  (5, 1659)\t0.28867513459481287\n",
      "  :\t:\n",
      "  (2699, 2699)\t0.5000000000000001\n",
      "  (2700, 1151)\t0.408248290463863\n",
      "  (2700, 2700)\t0.5000000000000001\n",
      "  (2701, 44)\t0.28867513459481287\n",
      "  (2701, 2624)\t0.3333333333333333\n",
      "  (2701, 2701)\t0.3333333333333333\n",
      "  (2702, 186)\t0.2182178902359924\n",
      "  (2702, 1536)\t0.2581988897471611\n",
      "  (2702, 2702)\t0.3333333333333333\n",
      "  (2703, 1298)\t0.5000000000000001\n",
      "  (2703, 2703)\t0.5000000000000001\n",
      "  (2704, 641)\t0.5000000000000001\n",
      "  (2704, 2704)\t0.5000000000000001\n",
      "  (2705, 287)\t0.5000000000000001\n",
      "  (2705, 2705)\t0.5000000000000001\n",
      "  (2706, 165)\t0.19999999999999998\n",
      "  (2706, 169)\t0.2581988897471611\n",
      "  (2706, 1473)\t0.19999999999999998\n",
      "  (2706, 2706)\t0.19999999999999998\n",
      "  (2706, 2707)\t0.19999999999999998\n",
      "  (2707, 165)\t0.19999999999999998\n",
      "  (2707, 598)\t0.07669649888473705\n",
      "  (2707, 1473)\t0.19999999999999998\n",
      "  (2707, 2706)\t0.19999999999999998\n",
      "  (2707, 2707)\t0.19999999999999998\n"
     ]
    }
   ],
   "source": [
    "normalize_adjacency = CoraData.normalization(dataset.adjacency)  # 规范化邻接矩阵\n",
    "print(type(normalize_adjacency))    # 坐标格式的矩阵\n",
    "print(normalize_adjacency)"
   ]
  },
  {
   "attachments": {},
   "cell_type": "markdown",
   "metadata": {},
   "source": [
    "scipy.sparse._coo.coo_matrix表示坐标格式的矩阵\n",
    "```python\n",
    "from scipy.sparse import coo_matrix\n",
    "import numpy as np\n",
    "row = np.array([1, 1, 3, 2]) # 行索引\n",
    "col = np.array([0, 2, 2, 3]) # 列索引\n",
    "data= np.array([5, 8, 4, 9]) # 索引对应的数值\n",
    "coo = coo_matrix((data, (row, col)), shape=(4, 4)).todense()\n",
    "#先看shape，表示这个稀疏矩阵是4x4大小的，所有值初始都为0，即4x4的全0矩阵\n",
    "#(row, col)行、列组合就表示一个具体的位置，其(1,0),(1,2),(3,2),(2,3)就是4x4矩阵的索引位置。\n",
    "#data,表示索引位置上的数值，即(1,0)上的数值为5，(1,2)上的数值为8，等等。\n",
    "#todense,作用可以自己试试，如果没有这个函数，则输出如下结果\n",
    "#  (1, 0)\t5\n",
    "#  (1, 2)\t8\n",
    "#  (3, 2)\t4\n",
    "#  (2, 3)\t9\n",
    "print(coo)\n",
    "#打印出coo稀疏矩阵\n",
    "```"
   ]
  },
  {
   "cell_type": "code",
   "execution_count": 45,
   "metadata": {},
   "outputs": [
    {
     "name": "stdout",
     "output_type": "stream",
     "text": [
      "2708 1433\n",
      "2707\n",
      "2707\n"
     ]
    }
   ],
   "source": [
    "num_nodes, input_dim = node_feature.shape\n",
    "print(num_nodes,input_dim)\n",
    "print(len(normalize_adjacency.row))\n",
    "print(len(normalize_adjacency.col))"
   ]
  },
  {
   "cell_type": "code",
   "execution_count": 36,
   "metadata": {},
   "outputs": [
    {
     "name": "stdout",
     "output_type": "stream",
     "text": [
      "tensor([[   0,    0,    0,  ..., 2707, 2707, 2707],\n",
      "        [   0,  633, 1862,  ..., 1473, 2706, 2707]])\n",
      "tensor([0.2500, 0.2500, 0.2236,  ..., 0.2000, 0.2000, 0.2000])\n",
      "tensor(indices=tensor([[   0,    0,    0,  ..., 2707, 2707, 2707],\n",
      "                       [   0,  633, 1862,  ..., 1473, 2706, 2707]]),\n",
      "       values=tensor([0.2500, 0.2500, 0.2236,  ..., 0.2000, 0.2000, 0.2000]),\n",
      "       device='cuda:0', size=(2708, 2708), nnz=13264, layout=torch.sparse_coo)\n"
     ]
    }
   ],
   "source": [
    "indices = torch.from_numpy(\n",
    "    np.asarray([normalize_adjacency.row,\n",
    "                normalize_adjacency.col]).astype('int64')).long()   # 将结构数据转化为ndarray\n",
    "print(indices)    # (2,13264)   13264是指稀疏矩阵的大小\n",
    "values = torch.from_numpy(normalize_adjacency.data.astype(np.float32))\n",
    "print(values) # (13264)\n",
    "tensor_adjacency = torch.sparse.FloatTensor(indices, values,\n",
    "                                            (num_nodes, num_nodes)).to(DEVICE)\n",
    "print(tensor_adjacency)# (2708,2708)    2708是指有索引的数值组成的矩阵大小"
   ]
  }
 ],
 "metadata": {
  "kernelspec": {
   "display_name": "torch3090",
   "language": "python",
   "name": "python3"
  },
  "language_info": {
   "codemirror_mode": {
    "name": "ipython",
    "version": 3
   },
   "file_extension": ".py",
   "mimetype": "text/x-python",
   "name": "python",
   "nbconvert_exporter": "python",
   "pygments_lexer": "ipython3",
   "version": "3.8.13"
  },
  "orig_nbformat": 4,
  "vscode": {
   "interpreter": {
    "hash": "e578467fa5c12cffc301a3bc3421e1911b67151edde074c28fc0dd02d3ed613c"
   }
  }
 },
 "nbformat": 4,
 "nbformat_minor": 2
}
