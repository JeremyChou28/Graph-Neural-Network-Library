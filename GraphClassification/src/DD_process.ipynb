{
 "cells": [
  {
   "cell_type": "code",
   "execution_count": 1,
   "metadata": {},
   "outputs": [],
   "source": [
    "import os\n",
    "from zipfile import ZipFile\n",
    "import numpy as np\n",
    "from sklearn.model_selection import train_test_split\n",
    "import scipy.sparse as sp"
   ]
  },
  {
   "cell_type": "code",
   "execution_count": 5,
   "metadata": {},
   "outputs": [],
   "source": [
    "class DDDataset(object):\n",
    "\n",
    "    def __init__(self, data_root=\"../dataset/\", train_size=0.8):\n",
    "        self.data_root = data_root\n",
    "        self.maybe_download()\n",
    "        sparse_adjacency, node_labels, graph_indicator, graph_labels = self.read_data(\n",
    "        )\n",
    "        self.sparse_adjacency = sparse_adjacency.tocsr()\n",
    "        self.node_labels = node_labels\n",
    "        self.graph_indicator = graph_indicator\n",
    "        self.graph_labels = graph_labels\n",
    "        self.train_index, self.test_index = self.split_data(train_size)\n",
    "        self.train_label = graph_labels[self.train_index]\n",
    "        self.test_label = graph_labels[self.test_index]\n",
    "\n",
    "    def split_data(self, train_size):\n",
    "        unique_indicator = np.asarray(list(set(self.graph_indicator)))\n",
    "        train_index, test_index = train_test_split(unique_indicator,\n",
    "                                                   train_size=train_size,\n",
    "                                                   random_state=1234)\n",
    "        return train_index, test_index\n",
    "\n",
    "    def __getitem__(self, index):\n",
    "        mask = self.graph_indicator == index\n",
    "        node_labels = self.node_labels[mask]\n",
    "        graph_indicator = self.graph_indicator[mask]\n",
    "        graph_labels = self.graph_labels[index]\n",
    "        adjacency = self.sparse_adjacency[mask, :][:, mask]\n",
    "        return adjacency, node_labels, graph_indicator, graph_labels\n",
    "\n",
    "    def __len__(self):\n",
    "        return len(self.graph_labels)\n",
    "\n",
    "    def read_data(self):\n",
    "        data_dir = os.path.join(self.data_root, \"DD\")\n",
    "        print(\"Loading DD_A.txt\")\n",
    "        adjacency_list = np.genfromtxt(os.path.join(data_dir, \"DD_A.txt\"),\n",
    "                                       dtype=np.int64,\n",
    "                                       delimiter=',') - 1\n",
    "        print(\"Loading DD_node_labels.txt\")\n",
    "        node_labels = np.genfromtxt(\n",
    "            os.path.join(data_dir, \"DD_node_labels.txt\"), dtype=np.int64) - 1\n",
    "        print(\"Loading DD_graph_indicator.txt\")\n",
    "        graph_indicator = np.genfromtxt(os.path.join(data_dir,\n",
    "                                                     \"DD_graph_indicator.txt\"),\n",
    "                                        dtype=np.int64) - 1\n",
    "        print(\"Loading DD_graph_labels.txt\")\n",
    "        graph_labels = np.genfromtxt(\n",
    "            os.path.join(data_dir, \"DD_graph_labels.txt\"), dtype=np.int64) - 1\n",
    "        num_nodes = len(node_labels)\n",
    "        num_graphs=len(graph_labels)\n",
    "        num_edges=len(adjacency_list)\n",
    "        sparse_adjacency = sp.coo_matrix(\n",
    "            (np.ones(len(adjacency_list)),\n",
    "             (adjacency_list[:, 0], adjacency_list[:, 1])),\n",
    "            shape=(num_nodes, num_nodes),\n",
    "            dtype=np.float32)\n",
    "        print(\"Number of nodes: \", num_nodes)\n",
    "        print(\"Number of graphs: \",num_graphs)\n",
    "        print(\"Number of edges: \",num_edges)\n",
    "        return sparse_adjacency, node_labels, graph_indicator, graph_labels\n",
    "\n",
    "    def maybe_download(self):\n",
    "        if not os.path.exists(os.path.join(self.data_root, \"DD\")):\n",
    "            zipfilename = os.path.join(self.data_root, \"DD.zip\")\n",
    "            with ZipFile(zipfilename, \"r\") as zipobj:\n",
    "                zipobj.extractall(os.path.join(self.data_root))\n",
    "                print(\"Extracting data from {}\".format(zipfilename))\n",
    "\n"
   ]
  },
  {
   "attachments": {},
   "cell_type": "markdown",
   "metadata": {},
   "source": [
    "D&D数据集：\n",
    "1. 1178张graph，334925个节点，1686092条边。每个graph有一个label，每个节点有一个label和所属graph"
   ]
  },
  {
   "cell_type": "code",
   "execution_count": 6,
   "metadata": {},
   "outputs": [
    {
     "name": "stdout",
     "output_type": "stream",
     "text": [
      "Loading DD_A.txt\n",
      "Loading DD_node_labels.txt\n",
      "Loading DD_graph_indicator.txt\n",
      "Loading DD_graph_labels.txt\n",
      "Number of nodes:  334925\n",
      "Number of graphs:  1178\n",
      "Number of edges:  1686092\n"
     ]
    }
   ],
   "source": [
    "dataset = DDDataset(data_root='../../GraphRNN/dataset/')"
   ]
  },
  {
   "cell_type": "code",
   "execution_count": 7,
   "metadata": {},
   "outputs": [
    {
     "name": "stdout",
     "output_type": "stream",
     "text": [
      "<class 'scipy.sparse._csr.csr_matrix'>\n",
      "<class 'numpy.ndarray'>\n",
      "<class 'numpy.ndarray'>\n",
      "<class 'numpy.ndarray'>\n"
     ]
    }
   ],
   "source": [
    "sparse_adjacency, node_labels, graph_indicator, graph_labels=dataset.sparse_adjacency,dataset.node_labels,dataset.graph_indicator,dataset.graph_labels\n",
    "print(type(sparse_adjacency))   # 图的邻接矩阵\n",
    "print(type(node_labels))    # 所有图的节点标签\n",
    "print(type(graph_indicator))    # 节点所属图的编号\n",
    "print(type(graph_labels))   # 图的分类标签"
   ]
  }
 ],
 "metadata": {
  "kernelspec": {
   "display_name": "torch3090",
   "language": "python",
   "name": "python3"
  },
  "language_info": {
   "codemirror_mode": {
    "name": "ipython",
    "version": 3
   },
   "file_extension": ".py",
   "mimetype": "text/x-python",
   "name": "python",
   "nbconvert_exporter": "python",
   "pygments_lexer": "ipython3",
   "version": "3.8.13"
  },
  "orig_nbformat": 4,
  "vscode": {
   "interpreter": {
    "hash": "e578467fa5c12cffc301a3bc3421e1911b67151edde074c28fc0dd02d3ed613c"
   }
  }
 },
 "nbformat": 4,
 "nbformat_minor": 2
}
